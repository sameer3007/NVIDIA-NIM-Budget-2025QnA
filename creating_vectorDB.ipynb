{
 "cells": [
  {
   "cell_type": "code",
   "execution_count": 1,
   "id": "d83b43ec",
   "metadata": {},
   "outputs": [],
   "source": [
    "from langchain_nvidia_ai_endpoints import NVIDIAEmbeddings, ChatNVIDIA"
   ]
  },
  {
   "cell_type": "code",
   "execution_count": 4,
   "id": "6725a16b",
   "metadata": {},
   "outputs": [],
   "source": [
    "from langchain_community.document_loaders import PyPDFDirectoryLoader\n",
    "from langchain.text_splitter import RecursiveCharacterTextSplitter\n",
    "from langchain_community.vectorstores import FAISS"
   ]
  },
  {
   "cell_type": "code",
   "execution_count": 12,
   "id": "6f103c6e",
   "metadata": {},
   "outputs": [],
   "source": [
    "embeddings=NVIDIAEmbeddings()\n",
    "loader=PyPDFDirectoryLoader(\"data\") ## Data Ingestion\n",
    "docs=loader.load() ## Document Loading\n",
    "text_splitter=RecursiveCharacterTextSplitter(chunk_size=1000,chunk_overlap=200) ## Chunk Creation\n",
    "final_documents=text_splitter.split_documents(docs) #splitting\n",
    "vectorstore=FAISS.from_documents(final_documents,embeddings) #vector OpenAI embeddings\n",
    "vectorstore.save_local(\"faiss_vector_store\")"
   ]
  },
  {
   "cell_type": "code",
   "execution_count": null,
   "id": "9021589a",
   "metadata": {},
   "outputs": [],
   "source": []
  },
  {
   "cell_type": "code",
   "execution_count": null,
   "id": "cd43e2aa",
   "metadata": {},
   "outputs": [],
   "source": []
  }
 ],
 "metadata": {
  "kernelspec": {
   "display_name": "venv",
   "language": "python",
   "name": "python3"
  },
  "language_info": {
   "codemirror_mode": {
    "name": "ipython",
    "version": 3
   },
   "file_extension": ".py",
   "mimetype": "text/x-python",
   "name": "python",
   "nbconvert_exporter": "python",
   "pygments_lexer": "ipython3",
   "version": "3.12.5"
  }
 },
 "nbformat": 4,
 "nbformat_minor": 5
}
